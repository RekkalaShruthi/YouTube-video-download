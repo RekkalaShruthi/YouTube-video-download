{
 "cells": [
  {
   "cell_type": "markdown",
   "id": "dba1d5e3-acc4-41dc-9c94-95e063848f32",
   "metadata": {},
   "source": [
    "Using script libraries, pytube and yt_dlp, we download youtub videos"
   ]
  },
  {
   "cell_type": "markdown",
   "id": "2484be4e-6969-444c-a1e2-3d52a288b041",
   "metadata": {},
   "source": [
    "import and upgrade libraries"
   ]
  },
  {
   "cell_type": "code",
   "execution_count": 3,
   "id": "06aac59c-a9f9-4daa-bf2b-61e1897d17dc",
   "metadata": {},
   "outputs": [
    {
     "name": "stdout",
     "output_type": "stream",
     "text": [
      "Requirement already satisfied: pytube3 in c:\\users\\rekka\\anaconda3\\lib\\site-packages (9.6.4)\n",
      "Requirement already satisfied: typing-extensions in c:\\users\\rekka\\anaconda3\\lib\\site-packages (from pytube3) (4.11.0)\n",
      "Note: you may need to restart the kernel to use updated packages.\n"
     ]
    }
   ],
   "source": [
    "pip install pytube3 "
   ]
  },
  {
   "cell_type": "code",
   "execution_count": 4,
   "id": "80457c15-7029-45c8-99bf-890f9fc3dd89",
   "metadata": {},
   "outputs": [
    {
     "name": "stdout",
     "output_type": "stream",
     "text": [
      "Requirement already satisfied: pytube in c:\\users\\rekka\\anaconda3\\lib\\site-packages (15.0.0)\n",
      "Note: you may need to restart the kernel to use updated packages.\n"
     ]
    }
   ],
   "source": [
    "pip install --upgrade pytube"
   ]
  },
  {
   "cell_type": "code",
   "execution_count": 5,
   "id": "478ce7f7-e841-4d2f-b56d-9c1478b7404f",
   "metadata": {},
   "outputs": [
    {
     "name": "stdout",
     "output_type": "stream",
     "text": [
      "Requirement already satisfied: yt_dlp in c:\\users\\rekka\\anaconda3\\lib\\site-packages (2024.8.6)\n",
      "Requirement already satisfied: brotli in c:\\users\\rekka\\anaconda3\\lib\\site-packages (from yt_dlp) (1.0.9)\n",
      "Requirement already satisfied: certifi in c:\\users\\rekka\\anaconda3\\lib\\site-packages (from yt_dlp) (2024.7.4)\n",
      "Requirement already satisfied: mutagen in c:\\users\\rekka\\anaconda3\\lib\\site-packages (from yt_dlp) (1.47.0)\n",
      "Requirement already satisfied: pycryptodomex in c:\\users\\rekka\\anaconda3\\lib\\site-packages (from yt_dlp) (3.20.0)\n",
      "Requirement already satisfied: requests<3,>=2.32.2 in c:\\users\\rekka\\anaconda3\\lib\\site-packages (from yt_dlp) (2.32.2)\n",
      "Requirement already satisfied: urllib3<3,>=1.26.17 in c:\\users\\rekka\\anaconda3\\lib\\site-packages (from yt_dlp) (2.2.2)\n",
      "Requirement already satisfied: websockets>=12.0 in c:\\users\\rekka\\anaconda3\\lib\\site-packages (from yt_dlp) (13.0.1)\n",
      "Requirement already satisfied: charset-normalizer<4,>=2 in c:\\users\\rekka\\anaconda3\\lib\\site-packages (from requests<3,>=2.32.2->yt_dlp) (2.0.4)\n",
      "Requirement already satisfied: idna<4,>=2.5 in c:\\users\\rekka\\anaconda3\\lib\\site-packages (from requests<3,>=2.32.2->yt_dlp) (3.7)\n",
      "Note: you may need to restart the kernel to use updated packages.\n"
     ]
    }
   ],
   "source": [
    "pip install yt_dlp"
   ]
  },
  {
   "cell_type": "code",
   "execution_count": 1,
   "id": "3d41952e-ff9b-4431-9743-b5f3a28ec62d",
   "metadata": {},
   "outputs": [],
   "source": [
    "from pytube import YouTube # import YouTube"
   ]
  },
  {
   "cell_type": "code",
   "execution_count": 3,
   "id": "394dc5ac-f713-4a68-be34-a09ddace3567",
   "metadata": {},
   "outputs": [
    {
     "name": "stdin",
     "output_type": "stream",
     "text": [
      "Enter youtube videos youtube.com/watch?v=eDN6fAWLNNE&t=5425s\n"
     ]
    }
   ],
   "source": [
    "link=input('Enter youtube videos') # user gives youtube video link which we will download\n",
    "yt=YouTube(link)"
   ]
  },
  {
   "cell_type": "code",
   "execution_count": null,
   "id": "fb0ea864-cde9-4178-b6e8-53237fa4d5d2",
   "metadata": {},
   "outputs": [],
   "source": [
    "# to print tile\n",
    "print('Title:',yt.title)\n",
    "# to print no.of views\n",
    "print('Views:',yt.views)\n",
    "# to print length of videos\n",
    "print('Duration:',yt.length)\n",
    "# to print description\n",
    "print('Description:',yt.description)\n",
    "# to print ratings\n",
    "print('Ratings:',yt.rating)"
   ]
  },
  {
   "cell_type": "code",
   "execution_count": null,
   "id": "32bd42ee-ebae-40df-a0a0-e6fd7c9cca28",
   "metadata": {},
   "outputs": [],
   "source": [
    "from yt_dlp import YoutubeDL\n",
    "download_option=input('Do you want to download this video? (yes/no):').lower() # we ask user if they want to download the link or not.\n",
    "if download_option=='yes': # when user gives yes executes below statements\n",
    "    url='https://www.youtube.com/watch?v=eDN6fAWLNNE&t=5425s'\n",
    "    ydl_opts={'format':'best'} # used for downloading the best quality of the video\n",
    "    with YoutubeDL(ydl_opts) as ydl:\n",
    "        print('Downloading...') # prints when downloas is started\n",
    "        ydl.download([url]) # shows all the url when the video is downloading\n",
    "        print('Download Completed') # prints when download is completed\n",
    "else: # when user gives no executes below statement.\n",
    "    print('Download Aborted')"
   ]
  }
 ],
 "metadata": {
  "kernelspec": {
   "display_name": "Python 3 (ipykernel)",
   "language": "python",
   "name": "python3"
  },
  "language_info": {
   "codemirror_mode": {
    "name": "ipython",
    "version": 3
   },
   "file_extension": ".py",
   "mimetype": "text/x-python",
   "name": "python",
   "nbconvert_exporter": "python",
   "pygments_lexer": "ipython3",
   "version": "3.12.4"
  }
 },
 "nbformat": 4,
 "nbformat_minor": 5
}
